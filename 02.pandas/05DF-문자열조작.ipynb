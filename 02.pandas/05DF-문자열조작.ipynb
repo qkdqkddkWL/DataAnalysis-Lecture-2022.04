{
 "cells": [
  {
   "cell_type": "code",
   "execution_count": 2,
   "metadata": {},
   "outputs": [
    {
     "data": {
      "text/plain": [
       "(20551, 3)"
      ]
     },
     "execution_count": 2,
     "metadata": {},
     "output_type": "execute_result"
    }
   ],
   "source": [
    "#문자열 조작\n",
    "import numpy as np\n",
    "import pandas as pd\n",
    "\n",
    "df=pd.read_csv(\"법정동코드 전체자료.txt\",sep='\\t',encoding=\"EUC-KR\")\n",
    "\n",
    "df=df[df[\"폐지여부\"]==\"존재\"] #존재만 남기고 폐지가있는 행 필터링\n",
    "df.shape"
   ]
  },
  {
   "cell_type": "code",
   "execution_count": 3,
   "metadata": {},
   "outputs": [
    {
     "data": {
      "text/plain": [
       "0    서울특별시\n",
       "1    서울특별시\n",
       "2    서울특별시\n",
       "3    서울특별시\n",
       "4    서울특별시\n",
       "Name: 법정동명, dtype: object"
      ]
     },
     "execution_count": 3,
     "metadata": {},
     "output_type": "execute_result"
    }
   ],
   "source": [
    "#인덱싱\n",
    "df.법정동명.str[:5].head()"
   ]
  },
  {
   "cell_type": "code",
   "execution_count": 4,
   "metadata": {},
   "outputs": [
    {
     "data": {
      "text/plain": [
       "0   -1\n",
       "1   -1\n",
       "2   -1\n",
       "3   -1\n",
       "4   -1\n",
       "Name: 법정동명, dtype: int64"
      ]
     },
     "execution_count": 4,
     "metadata": {},
     "output_type": "execute_result"
    }
   ],
   "source": [
    "#찾기 \n",
    "df[\"법정동명\"].str.find(\"나\").head()        # 0 이상이면 그문자열을 포함 -1이면 포함하지않음\n"
   ]
  },
  {
   "cell_type": "code",
   "execution_count": 5,
   "metadata": {},
   "outputs": [
    {
     "data": {
      "text/plain": [
       "0              [서울특별시]\n",
       "1         [서울특별시, 종로구]\n",
       "2    [서울특별시, 종로구, 청운동]\n",
       "3    [서울특별시, 종로구, 신교동]\n",
       "4    [서울특별시, 종로구, 궁정동]\n",
       "Name: 법정동명, dtype: object"
      ]
     },
     "execution_count": 5,
     "metadata": {},
     "output_type": "execute_result"
    }
   ],
   "source": [
    "df[\"법정동명\"].str.split(\" \").head()"
   ]
  },
  {
   "cell_type": "code",
   "execution_count": 6,
   "metadata": {},
   "outputs": [
    {
     "data": {
      "text/plain": [
       "0    True\n",
       "1    True\n",
       "2    True\n",
       "3    True\n",
       "4    True\n",
       "Name: 법정동명, dtype: bool"
      ]
     },
     "execution_count": 6,
     "metadata": {},
     "output_type": "execute_result"
    }
   ],
   "source": [
    "#포함글자 인식: contains\n",
    "\n",
    "df[\"법정동명\"].str.contains(\"서울특\").head()"
   ]
  },
  {
   "cell_type": "code",
   "execution_count": 7,
   "metadata": {},
   "outputs": [],
   "source": [
    "seocho=df[df[\"법정동명\"].str.contains(\"서초\")]"
   ]
  },
  {
   "cell_type": "code",
   "execution_count": 8,
   "metadata": {},
   "outputs": [
    {
     "data": {
      "text/plain": [
       "12"
      ]
     },
     "execution_count": 8,
     "metadata": {},
     "output_type": "execute_result"
    }
   ],
   "source": [
    "len(seocho)"
   ]
  },
  {
   "cell_type": "code",
   "execution_count": 9,
   "metadata": {},
   "outputs": [
    {
     "data": {
      "text/plain": [
       "0            서울특별시\n",
       "1        서울특별시_종로구\n",
       "2    서울특별시_종로구_청운동\n",
       "3    서울특별시_종로구_신교동\n",
       "4    서울특별시_종로구_궁정동\n",
       "Name: 법정동명, dtype: object"
      ]
     },
     "execution_count": 9,
     "metadata": {},
     "output_type": "execute_result"
    }
   ],
   "source": [
    "#문자대체:replace\n",
    "df[\"법정동명\"].str.replace(\" \",\"_\").head()\n"
   ]
  },
  {
   "cell_type": "code",
   "execution_count": 10,
   "metadata": {},
   "outputs": [
    {
     "name": "stderr",
     "output_type": "stream",
     "text": [
      "C:\\Users\\admin\\anaconda3\\lib\\site-packages\\pandas\\core\\generic.py:5516: SettingWithCopyWarning: \n",
      "A value is trying to be set on a copy of a slice from a DataFrame.\n",
      "Try using .loc[row_indexer,col_indexer] = value instead\n",
      "\n",
      "See the caveats in the documentation: https://pandas.pydata.org/pandas-docs/stable/user_guide/indexing.html#returning-a-view-versus-a-copy\n",
      "  self[name] = value\n"
     ]
    },
    {
     "data": {
      "text/plain": [
       "975                    서울특별시qwe?서초구\n",
       "977             서울특별시qwe?서초구qwe?방배동\n",
       "978             서울특별시qwe?서초구qwe?양재동\n",
       "979             서울특별시qwe?서초구qwe?우면동\n",
       "980             서울특별시qwe?서초구qwe?원지동\n",
       "982             서울특별시qwe?서초구qwe?잠원동\n",
       "983             서울특별시qwe?서초구qwe?반포동\n",
       "984             서울특별시qwe?서초구qwe?서초동\n",
       "985             서울특별시qwe?서초구qwe?내곡동\n",
       "986             서울특별시qwe?서초구qwe?염곡동\n",
       "987             서울특별시qwe?서초구qwe?신원동\n",
       "21029    충청남도qwe?예산군qwe?광시면qwe?서초정리\n",
       "Name: 법정동명, dtype: object"
      ]
     },
     "execution_count": 10,
     "metadata": {},
     "output_type": "execute_result"
    }
   ],
   "source": [
    "seocho.법정동명=seocho.법정동명.str.replace(\" \",\"qwe?\")\n",
    "seocho.법정동명"
   ]
  },
  {
   "cell_type": "code",
   "execution_count": 14,
   "metadata": {},
   "outputs": [
    {
     "name": "stderr",
     "output_type": "stream",
     "text": [
      "C:\\Users\\admin\\AppData\\Local\\Temp/ipykernel_16692/383801394.py:2: FutureWarning: The default value of regex will change from True to False in a future version.\n",
      "  seocho.법정동명=seocho.법정동명.str.replace(\"[^가-힣]\",\"\")\n",
      "C:\\Users\\admin\\anaconda3\\lib\\site-packages\\pandas\\core\\generic.py:5516: SettingWithCopyWarning: \n",
      "A value is trying to be set on a copy of a slice from a DataFrame.\n",
      "Try using .loc[row_indexer,col_indexer] = value instead\n",
      "\n",
      "See the caveats in the documentation: https://pandas.pydata.org/pandas-docs/stable/user_guide/indexing.html#returning-a-view-versus-a-copy\n",
      "  self[name] = value\n"
     ]
    },
    {
     "data": {
      "text/html": [
       "<div>\n",
       "<style scoped>\n",
       "    .dataframe tbody tr th:only-of-type {\n",
       "        vertical-align: middle;\n",
       "    }\n",
       "\n",
       "    .dataframe tbody tr th {\n",
       "        vertical-align: top;\n",
       "    }\n",
       "\n",
       "    .dataframe thead th {\n",
       "        text-align: right;\n",
       "    }\n",
       "</style>\n",
       "<table border=\"1\" class=\"dataframe\">\n",
       "  <thead>\n",
       "    <tr style=\"text-align: right;\">\n",
       "      <th></th>\n",
       "      <th>법정동코드</th>\n",
       "      <th>법정동명</th>\n",
       "      <th>폐지여부</th>\n",
       "    </tr>\n",
       "  </thead>\n",
       "  <tbody>\n",
       "    <tr>\n",
       "      <th>975</th>\n",
       "      <td>1165000000</td>\n",
       "      <td>서울특별시서초구</td>\n",
       "      <td>존재</td>\n",
       "    </tr>\n",
       "    <tr>\n",
       "      <th>977</th>\n",
       "      <td>1165010100</td>\n",
       "      <td>서울특별시서초구방배동</td>\n",
       "      <td>존재</td>\n",
       "    </tr>\n",
       "    <tr>\n",
       "      <th>978</th>\n",
       "      <td>1165010200</td>\n",
       "      <td>서울특별시서초구양재동</td>\n",
       "      <td>존재</td>\n",
       "    </tr>\n",
       "    <tr>\n",
       "      <th>979</th>\n",
       "      <td>1165010300</td>\n",
       "      <td>서울특별시서초구우면동</td>\n",
       "      <td>존재</td>\n",
       "    </tr>\n",
       "    <tr>\n",
       "      <th>980</th>\n",
       "      <td>1165010400</td>\n",
       "      <td>서울특별시서초구원지동</td>\n",
       "      <td>존재</td>\n",
       "    </tr>\n",
       "  </tbody>\n",
       "</table>\n",
       "</div>"
      ],
      "text/plain": [
       "          법정동코드         법정동명 폐지여부\n",
       "975  1165000000     서울특별시서초구   존재\n",
       "977  1165010100  서울특별시서초구방배동   존재\n",
       "978  1165010200  서울특별시서초구양재동   존재\n",
       "979  1165010300  서울특별시서초구우면동   존재\n",
       "980  1165010400  서울특별시서초구원지동   존재"
      ]
     },
     "execution_count": 14,
     "metadata": {},
     "output_type": "execute_result"
    }
   ],
   "source": [
    "# .str.replace()에서는 정규표현식 사용가능\n",
    "seocho.법정동명=seocho.법정동명.str.replace(\"[^가-힣]\",\"\")\n",
    "seocho.head()"
   ]
  },
  {
   "cell_type": "code",
   "execution_count": 12,
   "metadata": {},
   "outputs": [
    {
     "data": {
      "text/plain": [
       "0    83557\n",
       "1     1715\n",
       "2     2447\n",
       "3     2611\n",
       "4     3829\n",
       "Name: 총계, dtype: int64"
      ]
     },
     "execution_count": 12,
     "metadata": {},
     "output_type": "execute_result"
    }
   ],
   "source": [
    "filename=\"서울시CCTV설치운영현황(자치구)_년도별_211231기준 (1).csv\"\n",
    "cctv=pd.read_csv(filename,encoding=\"EUC-KR\",skiprows=1)\n",
    "cctv['총계'].apply(lambda x: int(x.replace(',',''))).head()"
   ]
  },
  {
   "cell_type": "code",
   "execution_count": 13,
   "metadata": {},
   "outputs": [
    {
     "data": {
      "text/plain": [
       "0    83557\n",
       "1     1715\n",
       "2     2447\n",
       "3     2611\n",
       "4     3829\n",
       "Name: 총계, dtype: int32"
      ]
     },
     "execution_count": 13,
     "metadata": {},
     "output_type": "execute_result"
    }
   ],
   "source": [
    "cctv[\"총계\"].str.replace(\",\",\"\").astype(int).head()"
   ]
  },
  {
   "cell_type": "code",
   "execution_count": null,
   "metadata": {},
   "outputs": [],
   "source": []
  }
 ],
 "metadata": {
  "interpreter": {
   "hash": "ef7f9a8012d9131766e31894c279374cc63c73121ed4db3b9e67a294a4bf0e74"
  },
  "kernelspec": {
   "display_name": "Python 3.9.7 ('base')",
   "language": "python",
   "name": "python3"
  },
  "language_info": {
   "codemirror_mode": {
    "name": "ipython",
    "version": 3
   },
   "file_extension": ".py",
   "mimetype": "text/x-python",
   "name": "python",
   "nbconvert_exporter": "python",
   "pygments_lexer": "ipython3",
   "version": "3.9.7"
  },
  "orig_nbformat": 4
 },
 "nbformat": 4,
 "nbformat_minor": 2
}
