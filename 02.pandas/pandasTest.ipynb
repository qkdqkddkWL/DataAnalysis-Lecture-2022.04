{
 "cells": [
  {
   "cell_type": "code",
   "execution_count": 5,
   "metadata": {},
   "outputs": [
    {
     "data": {
      "text/plain": [
       "닭발     1.0\n",
       "치즈     NaN\n",
       "치킨     1.0\n",
       "피자     NaN\n",
       "햄      NaN\n",
       "햄버거    NaN\n",
       "dtype: float64"
      ]
     },
     "execution_count": 5,
     "metadata": {},
     "output_type": "execute_result"
    }
   ],
   "source": [
    "import numpy as np\n",
    "import pandas as pd\n",
    "\n",
    "\n",
    "\n",
    "food = pd.Series([50000, 40000, 35000, 100000],index=[\"치킨\", \"피자\", \"햄버거\", \"닭발\"])\n",
    "food2 = pd.Series([50000, 6000, 3500, 100000],index=[\"치킨\", \"햄\", \"치즈\", \"닭발\"])\n",
    "\n",
    "food+food2\n",
    "food-food2\n",
    "food*food2\n",
    "food/food2"
   ]
  },
  {
   "cell_type": "code",
   "execution_count": 10,
   "metadata": {},
   "outputs": [
    {
     "data": {
      "text/html": [
       "<div>\n",
       "<style scoped>\n",
       "    .dataframe tbody tr th:only-of-type {\n",
       "        vertical-align: middle;\n",
       "    }\n",
       "\n",
       "    .dataframe tbody tr th {\n",
       "        vertical-align: top;\n",
       "    }\n",
       "\n",
       "    .dataframe thead th {\n",
       "        text-align: right;\n",
       "    }\n",
       "</style>\n",
       "<table border=\"1\" class=\"dataframe\">\n",
       "  <thead>\n",
       "    <tr style=\"text-align: right;\">\n",
       "      <th></th>\n",
       "      <th>1번</th>\n",
       "      <th>2번</th>\n",
       "      <th>3번</th>\n",
       "      <th>4번</th>\n",
       "      <th>5번</th>\n",
       "    </tr>\n",
       "  </thead>\n",
       "  <tbody>\n",
       "    <tr>\n",
       "      <th>성민</th>\n",
       "      <td>80</td>\n",
       "      <td>90</td>\n",
       "      <td>70</td>\n",
       "      <td>60</td>\n",
       "      <td>50</td>\n",
       "    </tr>\n",
       "    <tr>\n",
       "      <th>성하</th>\n",
       "      <td>a</td>\n",
       "      <td>b</td>\n",
       "      <td>c</td>\n",
       "      <td>d</td>\n",
       "      <td>e</td>\n",
       "    </tr>\n",
       "    <tr>\n",
       "      <th>지은</th>\n",
       "      <td>1.1</td>\n",
       "      <td>2.1</td>\n",
       "      <td>3.3</td>\n",
       "      <td>4.4</td>\n",
       "      <td>5.5</td>\n",
       "    </tr>\n",
       "    <tr>\n",
       "      <th>지혜</th>\n",
       "      <td>ㅋ</td>\n",
       "      <td>ㄴ</td>\n",
       "      <td>ㅈ</td>\n",
       "      <td>ㅍ</td>\n",
       "      <td>ㄱ</td>\n",
       "    </tr>\n",
       "    <tr>\n",
       "      <th>철수</th>\n",
       "      <td>12</td>\n",
       "      <td>17</td>\n",
       "      <td>14</td>\n",
       "      <td>13</td>\n",
       "      <td>11</td>\n",
       "    </tr>\n",
       "  </tbody>\n",
       "</table>\n",
       "</div>"
      ],
      "text/plain": [
       "     1번   2번   3번   4번   5번\n",
       "성민   80   90   70   60   50\n",
       "성하    a    b    c    d    e\n",
       "지은  1.1  2.1  3.3  4.4  5.5\n",
       "지혜    ㅋ    ㄴ    ㅈ    ㅍ    ㄱ\n",
       "철수   12   17   14   13   11"
      ]
     },
     "execution_count": 10,
     "metadata": {},
     "output_type": "execute_result"
    }
   ],
   "source": [
    "data={\n",
    "    \"1번\":[80,\"a\",1.1,\"ㅋ\",12], #data type정수 ,실수라면 실수가 되지만\n",
    "    \"2번\":[90,\"b\",2.1,\"ㄴ\",17], # 문자열이 있는 1,2,3,4,5번은은 크기가 가장 큰 문자열타입이 된다 (모든데이터가)\n",
    "    \"3번\":[70,\"c\",3.3,\"ㅈ\",14],\n",
    "    \"4번\":[60,\"d\",4.4,\"ㅍ\",13],\n",
    "    \"5번\":[50,\"e\",5.5,\"ㄱ\",11]\n",
    "}\n",
    "\n",
    "df=pd.DataFrame(data,index=[\"성민\",\"성하\",\"지은\",\"지혜\",\"철수\"],columns=[\"1번\",\"2번\",\"3번\",\"4번\",\"5번\"])\n",
    "df"
   ]
  },
  {
   "cell_type": "code",
   "execution_count": 9,
   "metadata": {},
   "outputs": [
    {
     "data": {
      "text/html": [
       "<div>\n",
       "<style scoped>\n",
       "    .dataframe tbody tr th:only-of-type {\n",
       "        vertical-align: middle;\n",
       "    }\n",
       "\n",
       "    .dataframe tbody tr th {\n",
       "        vertical-align: top;\n",
       "    }\n",
       "\n",
       "    .dataframe thead th {\n",
       "        text-align: right;\n",
       "    }\n",
       "</style>\n",
       "<table border=\"1\" class=\"dataframe\">\n",
       "  <thead>\n",
       "    <tr style=\"text-align: right;\">\n",
       "      <th></th>\n",
       "      <th>춘향</th>\n",
       "      <th>향단</th>\n",
       "    </tr>\n",
       "  </thead>\n",
       "  <tbody>\n",
       "    <tr>\n",
       "      <th>국어</th>\n",
       "      <td>80.00</td>\n",
       "      <td>70.0</td>\n",
       "    </tr>\n",
       "    <tr>\n",
       "      <th>영어</th>\n",
       "      <td>90.00</td>\n",
       "      <td>60.0</td>\n",
       "    </tr>\n",
       "    <tr>\n",
       "      <th>수학</th>\n",
       "      <td>90.00</td>\n",
       "      <td>80.0</td>\n",
       "    </tr>\n",
       "    <tr>\n",
       "      <th>평균</th>\n",
       "      <td>86.67</td>\n",
       "      <td>70.0</td>\n",
       "    </tr>\n",
       "  </tbody>\n",
       "</table>\n",
       "</div>"
      ],
      "text/plain": [
       "       춘향    향단\n",
       "국어  80.00  70.0\n",
       "영어  90.00  60.0\n",
       "수학  90.00  80.0\n",
       "평균  86.67  70.0"
      ]
     },
     "execution_count": 9,
     "metadata": {},
     "output_type": "execute_result"
    }
   ],
   "source": [
    "import warnings\n",
    "warnings.filterwarnings(\"ignore\")   #warning 메시지 보고싶지 않을 때\n",
    "data = {\n",
    "    \"국어\": [80, 90, 70, 30],\n",
    "    \"영어\": [90, 70, 60, 40],\n",
    "    \"수학\": [90, 60, 80, 70],\n",
    "}\n",
    "columns = [\"국어\", \"영어\", \"수학\"]\n",
    "index = [\"춘향\", \"몽룡\", \"향단\", \"방자\"]\n",
    "df = pd.DataFrame(data, index=index, columns=columns)\n",
    "df[\"수학\"]\n",
    "df[[\"국어\",\"영어\"]]\n",
    "df[\"평균\"]=df.mean(axis=1).round(2)\n",
    "df.영어.방자=80\n",
    "df[\"평균\"]=df.mean(axis=1).round(2)\n",
    "df.iloc[[0][:]]\n",
    "df.iloc[2][:]\n",
    "df.T[[\"춘향\"]]  # 데이터 프레임으로 보는방법"
   ]
  },
  {
   "cell_type": "code",
   "execution_count": 51,
   "metadata": {},
   "outputs": [
    {
     "data": {
      "text/plain": [
       "(1,\n",
       " 1,\n",
       " ONE    1\n",
       " Name: one, dtype: int32)"
      ]
     },
     "execution_count": 51,
     "metadata": {},
     "output_type": "execute_result"
    }
   ],
   "source": [
    "df=pd.DataFrame(np.arange(1,26).reshape(5,5),\n",
    "                index=[\"one\",\"two\",\"three\",\"four\",\"five\"],\n",
    "                columns=[\"ONE\",\"TWO\",\"THREE\",\"FOUR\",\"FIVE\"]\n",
    "                                                            )\n",
    "\n",
    "df[\"ONE\"][\"one\"],df[\"ONE\"][0],df.ONE.one,df[\"ONE\"].one\n",
    "df.loc[\"one\"][\"ONE\"],df.loc[\"one\"][0],df.loc[\"one\"].ONE\n",
    "df.iloc[0][0],df.iloc[0,0],df.iloc[0,0:1]"
   ]
  },
  {
   "cell_type": "code",
   "execution_count": null,
   "metadata": {},
   "outputs": [],
   "source": []
  }
 ],
 "metadata": {
  "interpreter": {
   "hash": "ef7f9a8012d9131766e31894c279374cc63c73121ed4db3b9e67a294a4bf0e74"
  },
  "kernelspec": {
   "display_name": "Python 3.9.7 ('base')",
   "language": "python",
   "name": "python3"
  },
  "language_info": {
   "codemirror_mode": {
    "name": "ipython",
    "version": 3
   },
   "file_extension": ".py",
   "mimetype": "text/x-python",
   "name": "python",
   "nbconvert_exporter": "python",
   "pygments_lexer": "ipython3",
   "version": "3.9.7"
  },
  "orig_nbformat": 4
 },
 "nbformat": 4,
 "nbformat_minor": 2
}
